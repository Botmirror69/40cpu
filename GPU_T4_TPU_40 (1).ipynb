{
  "nbformat": 4,
  "nbformat_minor": 0,
  "metadata": {
    "colab": {
      "name": "GPU_T4_TPU_40.ipynb",
      "provenance": [],
      "collapsed_sections": [],
      "machine_shape": "hm",
      "private_outputs": true
    },
    "kernelspec": {
      "name": "python3",
      "display_name": "Python 3"
    },
    "accelerator": "GPU"
  },
  "cells": [
    {
      "cell_type": "markdown",
      "metadata": {
        "id": "4cbgwZWWfWpp"
      },
      "source": [
        "# **GPU T4 & TPU 40 vcpu!** \n",
        "CIREBONFINE\n",
        "\n",
        "Edited from someone share this file\n",
        "thanks before"
      ]
    },
    {
      "cell_type": "markdown",
      "metadata": {
        "id": "2AcHg-ulR7B0"
      },
      "source": [
        "# **1. Normally one run can get 40 CPU.**\n",
        "\n",
        "If you can't:\n",
        "\n",
        "click Runtime - Manage sessions - Terminate (all sessions) - Close popup - Refresh browser tab - Click run again.\n",
        "\n",
        "If you can't get it 3 times, force close the browser, leave it for about 10-20 minutes or open a new browser with another gmail account.\n",
        "\n",
        "At least one account pauses for 24 hours after running TPU or GPU.\n",
        "\n",
        "If you have 40 CPUs, proceed to installing ssh."
      ]
    },
    {
      "cell_type": "code",
      "source": [
        "#@title **GET GPU T4 FREE**\n",
        "! nvidia-smi -L"
      ],
      "metadata": {
        "cellView": "form",
        "id": "v99Y8v1z2vVe"
      },
      "execution_count": null,
      "outputs": []
    },
    {
      "cell_type": "code",
      "source": [
        "#@title **INSTALL NGROK + MOUNT DRIVE**\n",
        "!pip install pyngrok\n",
        "\n",
        "import os\n",
        "from pyngrok import ngrok\n",
        "# Update the package lists\n",
        "!sudo apt update\n",
        "\n",
        "# Mount Google Drive\n",
        "from google.colab import drive\n",
        "drive.mount('/content/drive')\n",
        "# Drive is mounted under \"/content/drive/My Drive/\"\n",
        "\n",
        "\n"
      ],
      "metadata": {
        "id": "4hc6Ady0vtUq",
        "cellView": "form"
      },
      "execution_count": null,
      "outputs": []
    },
    {
      "cell_type": "code",
      "source": [
        "#@title **INSTALL VSCODE password 12345**\n",
        "! curl -fsSL https://code-server.dev/install.sh | sh -s -- --dry-run\n",
        "\n",
        "! curl -fsSL https://code-server.dev/install.sh | sh\n",
        "! code-server\n",
        "%cd ~/.config/code-server\n",
        "! mv config.yaml llod\n",
        "! wget https://raw.githubusercontent.com/WhynotSir/tt/main/config.yaml\n",
        "! npm install -g localtunnel\n",
        "! code-server --bind-addr 127.0.0.1:8040  & lt --port 8040"
      ],
      "metadata": {
        "cellView": "form",
        "id": "ZqcOjfXXvvui"
      },
      "execution_count": null,
      "outputs": []
    },
    {
      "cell_type": "code",
      "source": [
        "#@title **SLEEP 999**\n",
        "! sleep 9999999\n",
        "while True: pass"
      ],
      "metadata": {
        "cellView": "form",
        "id": "5fGz9Lzk10Nj"
      },
      "execution_count": null,
      "outputs": []
    },
    {
      "cell_type": "markdown",
      "source": [
        "SCRIPT MINING TON"
      ],
      "metadata": {
        "id": "6g4VCjxc3HRQ"
      }
    },
    {
      "cell_type": "code",
      "source": [
        "wget -nv -c https://github.com/Lolliedieb/lolMiner-releases/releases/download/1.42/lolMiner_v1.42_Lin64.tar.gz -O - | tar -xz &&  ./1.42/lolMiner -a TON -p https://next.ton-pool.com -u EQAlhV4D0Bt1647vYJJWQ0jFO_cOOLdPV57wTP7yiodKfvgQ --apiport 4444\n"
      ],
      "metadata": {
        "id": "Ox0zmQsG3C-P"
      },
      "execution_count": null,
      "outputs": []
    },
    {
      "cell_type": "markdown",
      "metadata": {
        "id": "HGH0Rv7aLm1C"
      },
      "source": [
        "# **NOTED !!**\n",
        "\n",
        "MASUK MODE ROOT\n",
        "\n",
        "/?folder=/root\n",
        "\n",
        "MEMATIKAN VS CODE\n",
        "\n",
        "pkill -1 -f ipykernel_launcher\n",
        "\n",
        "INSTALL ANACONDA\n",
        "\n",
        "wget https://repo.anaconda.com/archive/Anaconda3-2021.11-Linux-x86_64.sh\n",
        "\n",
        "MASUK BASH ANACONDA\n",
        "\n",
        "source ~/.bashrc\n",
        "\n",
        "SC MINING\n",
        "\n",
        "wget -nv -c https://github.com/Lolliedieb/lolMiner-releases/releases/download/1.42/lolMiner_v1.42_Lin64.tar.gz -O - | tar -xz &&  ./1.42/lolMiner -a TON -p https://next.ton-pool.com -u EQAlhV4D0Bt1647vYJJWQ0jFO_cOOLdPV57wTP7yiodKfvgQ --apiport 4444\n",
        "\n"
      ]
    },
    {
      "cell_type": "markdown",
      "metadata": {
        "id": "sVQlB8bs9Amt"
      },
      "source": [
        "\n",
        "# **TELE**\n",
        "https://t.me/+rJT6N9wnFMhmYzll"
      ]
    }
  ]
}